{
 "cells": [
  {
   "cell_type": "code",
   "execution_count": 4,
   "metadata": {},
   "outputs": [],
   "source": [
    "import os\n",
    "#define OpenPose path\n",
    "openpose_path = r\"YourPath\"\n",
    "#set OpenPose path to current directory\n",
    "os.chdir(openpose_path)\n",
    "#run OpenPose\n",
    "! bin\\OpenPoseDemo.exe --video YourPath\\input_videos\\YourVideoName.avi --write_json YourPath\\JSON_outputs --display 0 --write_video YourPath\\output_videos\\YourVideoName_pose.avi"
   ]
  }
 ],
 "metadata": {
  "kernelspec": {
   "display_name": "Python 3",
   "language": "python",
   "name": "python3"
  },
  "language_info": {
   "codemirror_mode": {
    "name": "ipython",
    "version": 3
   },
   "file_extension": ".py",
   "mimetype": "text/x-python",
   "name": "python",
   "nbconvert_exporter": "python",
   "pygments_lexer": "ipython3",
   "version": "3.7.6"
  }
 },
 "nbformat": 4,
 "nbformat_minor": 4
}
