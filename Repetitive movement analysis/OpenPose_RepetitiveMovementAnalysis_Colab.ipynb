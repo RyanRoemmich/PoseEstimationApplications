{
  "nbformat": 4,
  "nbformat_minor": 0,
  "metadata": {
    "colab": {
      "name": "OpenPose_RepetitiveMovementAnalysis.ipynb",
      "provenance": [],
      "collapsed_sections": []
    },
    "kernelspec": {
      "name": "python3",
      "display_name": "Python 3"
    },
    "accelerator": "GPU"
  },
  "cells": [
    {
      "cell_type": "markdown",
      "metadata": {
        "id": "-NLcL7pswucy"
      },
      "source": [
        "Start here. Make sure you change the runtime to use the GPU (Runtime->Change runtime type->Python 3 and GPU). Do not edit anything until you get to the next text block...you only need to edit one line of code (or two if you're using a YouTube video)!"
      ]
    },
    {
      "cell_type": "code",
      "metadata": {
        "id": "M5473Kflgfeu"
      },
      "source": [
        "# Install OpenPose\n",
        "! nvcc --version\n",
        "! nvidia-smi\n",
        "ver_openpose = \"v1.6.0\"\n",
        "! cmake --version\n",
        "! wget -c \"https://github.com/Kitware/CMake/releases/download/v3.17.2/cmake-3.17.2.tar.gz\"\n",
        "! tar xf cmake-3.17.2.tar.gz\n",
        "! cd cmake-3.17.2 && ./configure && make && sudo make install\n",
        "# Install libraries\n",
        "# Basic\n",
        "! sudo apt-get --assume-yes update\n",
        "! sudo apt-get --assume-yes install build-essential\n",
        "# OpenCV\n",
        "! sudo apt-get --assume-yes install libopencv-dev\n",
        "# General dependencies\n",
        "! sudo apt-get --assume-yes install libatlas-base-dev libprotobuf-dev libleveldb-dev libsnappy-dev libhdf5-serial-dev protobuf-compiler\n",
        "! sudo apt-get --assume-yes install --no-install-recommends libboost-all-dev\n",
        "# Remaining dependencies, 14.04\n",
        "! sudo apt-get --assume-yes install libgflags-dev libgoogle-glog-dev liblmdb-dev\n",
        "# Python3 libs\n",
        "! sudo apt-get --assume-yes install python3-setuptools python3-dev build-essential\n",
        "! sudo apt-get --assume-yes install python3-pip\n",
        "! sudo -H pip3 install --upgrade numpy protobuf opencv-python\n",
        "# OpenCL Generic\n",
        "! sudo apt-get --assume-yes install opencl-headers ocl-icd-opencl-dev\n",
        "! sudo apt-get --assume-yes install libviennacl-dev\n",
        "# Python dependencies\n",
        "!pip install -q youtube-dl\n",
        "# Clone openpose\n",
        "! git clone  --depth 1 -b \"$ver_openpose\" https://github.com/CMU-Perceptual-Computing-Lab/openpose.git "
      ],
      "execution_count": null,
      "outputs": []
    },
    {
      "cell_type": "code",
      "metadata": {
        "id": "feG29FDJuTQN"
      },
      "source": [
        "# Build openpose\n",
        "! cd openpose && mkdir build && cd build\n",
        "! cd openpose/build && cmake ..\n",
        "! cd openpose/build && make -j`nproc`"
      ],
      "execution_count": null,
      "outputs": []
    },
    {
      "cell_type": "code",
      "metadata": {
        "id": "lAPHbWFEhO6x",
        "colab": {
          "base_uri": "https://localhost:8080/"
        },
        "outputId": "381a26c2-5e5d-4a58-9124-62e7d0f8abd6"
      },
      "source": [
        "# Import your google drive (do not edit)\n",
        "from google.colab import drive\n",
        "import os\n",
        "drive.mount('/content/gdrive')"
      ],
      "execution_count": null,
      "outputs": [
        {
          "output_type": "stream",
          "text": [
            "Mounted at /content/gdrive\n"
          ],
          "name": "stdout"
        }
      ]
    },
    {
      "cell_type": "markdown",
      "metadata": {
        "id": "1DaW7ihTwZAC"
      },
      "source": [
        "Make sure that the video you want to analyze is in your Google Drive (or use YouTube video)"
      ]
    },
    {
      "cell_type": "markdown",
      "metadata": {
        "id": "FaifSIdvlJ-U"
      },
      "source": [
        "Run this if you need to change the resolution of your video (e.g., if it is being analyzed sideways)"
      ]
    },
    {
      "cell_type": "code",
      "metadata": {
        "id": "ySE3xXt5jsOq"
      },
      "source": [
        "import moviepy.editor as mp\n",
        "clip = mp.VideoFileClip(\"/content/gdrive/My Drive/OpenPose/YourVideoName.mp4\")\n",
        "clip_resized = clip.resize(newsize=(1080,1920))\n",
        "clip_resized.write_videofile(\"/content/gdrive/My Drive/OpenPose/YourVideoName_rot.mp4\")"
      ],
      "execution_count": null,
      "outputs": []
    },
    {
      "cell_type": "markdown",
      "metadata": {
        "id": "dCcPZ_6FlXK4"
      },
      "source": [
        "Run this if you are using a YouTube video"
      ]
    },
    {
      "cell_type": "code",
      "metadata": {
        "id": "mMuSKxizxWlD"
      },
      "source": [
        "# Only run this step if you want to use a YouTube video\n",
        "#edit YourVideoName, YouTube link \n",
        "from IPython.display import YouTubeVideo\n",
        "#downloads the youtube with the given ID\n",
        "!youtube-dl -f 'bestvideo[ext=mp4]' --output \"/content/openpose/YourVideoName.mp4\" YouTubeURL\n",
        "!cd openpose && ./build/examples/openpose/openpose.bin --video /content/openpose/YourVideoName.mp4 --write_json /content/openpose/JSON --display 0 --hand --write_video /content/openpose/YourVideoName_pose.mp4"
      ],
      "execution_count": null,
      "outputs": []
    },
    {
      "cell_type": "markdown",
      "metadata": {
        "id": "r76iY7gdlag9"
      },
      "source": [
        "Run this if you are analyzing a video stored in your Google Drive"
      ]
    },
    {
      "cell_type": "code",
      "metadata": {
        "id": "OowrJ3irmk7U"
      },
      "source": [
        "# Analyze video with OpenPose\n",
        "#edit the two locations that include paths and YourVideoName...then just click play!\n",
        "!cd openpose && ./build/examples/openpose/openpose.bin --video /content/gdrive/My\\ Drive/YourVideoName.mp4 --write_json /content/gdrive/My\\ Drive/JSON --display 0 --hand --write_video /content/gdrive/My\\ Drive/YourVideoName_pose.mp4"
      ],
      "execution_count": null,
      "outputs": []
    },
    {
      "cell_type": "markdown",
      "metadata": {
        "id": "mhvoLLLklvKN"
      },
      "source": [
        "Run this if you are only analyzing hand movements"
      ]
    },
    {
      "cell_type": "code",
      "metadata": {
        "id": "HeFYvWp_o1Qm"
      },
      "source": [
        "# hand only\n",
        "!cd openpose && ./build/examples/openpose/openpose.bin --video /content/openpose/YourVideoName.mp4 --write_json /content/openpose/output/ --display 0 --render_pose 0 --hand --hand_render 2 --write_video ../YourVideoName_pose.mp4"
      ],
      "execution_count": null,
      "outputs": []
    }
  ]
}